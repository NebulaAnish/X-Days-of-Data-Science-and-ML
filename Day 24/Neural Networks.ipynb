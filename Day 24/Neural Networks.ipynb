{
 "cells": [
  {
   "cell_type": "markdown",
   "id": "f0c72cc1",
   "metadata": {},
   "source": [
    "# Terms to know\n",
    "\n",
    "### Neuron: \n",
    "each node in a neural network\n",
    "\n",
    "### Layers:\n",
    "are composed of several nodes also called the features or neurons \n",
    "- Input layer\n",
    "- Hidden Layer : more hidden layers; deeper the model\n",
    "- Output Layer\n",
    "\n",
    "as every node in one layer is connected to every node in upcoming layer, the nodes at upcoming layer get to decide optimal option enchanching the feature selection process\n",
    "\n",
    "### Activation Function: \n",
    "Determines how strongly activated a neuron is. The further neurons work based on how strong the signal is from it's initial  \n",
    "\n",
    "### Loss Function:\n",
    "just like in previous shallows learning models, the neural network also adjust itself based on the loss function to minimize cost.\n",
    "\n",
    "### Backpropagation:\n",
    "adjusting the weights in each layers after the model outputs a wrong result."
   ]
  },
  {
   "cell_type": "markdown",
   "id": "20ede5b0",
   "metadata": {},
   "source": [
    "## Disadvantages of Neural Networks\n",
    "Although neural networks can be used to solve any problem they are not always the preferred option.\n",
    "- with increase in input parameters the cost goes up high\n",
    "- Mysterious working of these networks"
   ]
  },
  {
   "cell_type": "markdown",
   "id": "7b6f147d",
   "metadata": {},
   "source": [
    "### websites to know\n",
    "- modelzoo\n",
    "- tensorflow.com/hub\n",
    "- colab.google.com"
   ]
  },
  {
   "cell_type": "code",
   "execution_count": null,
   "id": "0c62fd3d",
   "metadata": {},
   "outputs": [],
   "source": []
  },
  {
   "cell_type": "code",
   "execution_count": null,
   "id": "21eac335",
   "metadata": {},
   "outputs": [],
   "source": []
  }
 ],
 "metadata": {
  "kernelspec": {
   "display_name": "Python 3 (ipykernel)",
   "language": "python",
   "name": "python3"
  },
  "language_info": {
   "codemirror_mode": {
    "name": "ipython",
    "version": 3
   },
   "file_extension": ".py",
   "mimetype": "text/x-python",
   "name": "python",
   "nbconvert_exporter": "python",
   "pygments_lexer": "ipython3",
   "version": "3.9.12"
  }
 },
 "nbformat": 4,
 "nbformat_minor": 5
}
