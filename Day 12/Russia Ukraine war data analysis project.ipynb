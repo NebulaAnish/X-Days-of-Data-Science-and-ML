{
 "cells": [
  {
   "cell_type": "code",
   "execution_count": 102,
   "id": "fb530069",
   "metadata": {},
   "outputs": [],
   "source": [
    "# library Imports\n",
    "import numpy as np\n",
    "import matplotlib.pyplot as plt\n",
    "import pandas as pd"
   ]
  },
  {
   "cell_type": "code",
   "execution_count": 103,
   "id": "ce9b4eab",
   "metadata": {},
   "outputs": [],
   "source": [
    "# example dataset 1: most_contested_city.csv\n",
    "data = pd.read_csv(\"most_contested_city.csv\")   # this is already cleaned data"
   ]
  },
  {
   "cell_type": "code",
   "execution_count": 104,
   "id": "13f0b3b4",
   "metadata": {},
   "outputs": [
    {
     "data": {
      "text/html": [
       "<div>\n",
       "<style scoped>\n",
       "    .dataframe tbody tr th:only-of-type {\n",
       "        vertical-align: middle;\n",
       "    }\n",
       "\n",
       "    .dataframe tbody tr th {\n",
       "        vertical-align: top;\n",
       "    }\n",
       "\n",
       "    .dataframe thead th {\n",
       "        text-align: right;\n",
       "    }\n",
       "</style>\n",
       "<table border=\"1\" class=\"dataframe\">\n",
       "  <thead>\n",
       "    <tr style=\"text-align: right;\">\n",
       "      <th></th>\n",
       "      <th>Unnamed: 0</th>\n",
       "      <th>city</th>\n",
       "      <th>lat</th>\n",
       "      <th>lon</th>\n",
       "      <th>population_proper</th>\n",
       "      <th>frequency</th>\n",
       "    </tr>\n",
       "  </thead>\n",
       "  <tbody>\n",
       "    <tr>\n",
       "      <th>0</th>\n",
       "      <td>0</td>\n",
       "      <td>Kharkiv</td>\n",
       "      <td>50.0000</td>\n",
       "      <td>36.2292</td>\n",
       "      <td>1446107</td>\n",
       "      <td>61</td>\n",
       "    </tr>\n",
       "    <tr>\n",
       "      <th>1</th>\n",
       "      <td>1</td>\n",
       "      <td>Donetsk</td>\n",
       "      <td>48.0089</td>\n",
       "      <td>37.8042</td>\n",
       "      <td>929063</td>\n",
       "      <td>54</td>\n",
       "    </tr>\n",
       "    <tr>\n",
       "      <th>2</th>\n",
       "      <td>2</td>\n",
       "      <td>Zaporizhzhia</td>\n",
       "      <td>47.8378</td>\n",
       "      <td>35.1383</td>\n",
       "      <td>741717</td>\n",
       "      <td>27</td>\n",
       "    </tr>\n",
       "    <tr>\n",
       "      <th>3</th>\n",
       "      <td>3</td>\n",
       "      <td>Kryvyi Rih</td>\n",
       "      <td>47.9086</td>\n",
       "      <td>33.3433</td>\n",
       "      <td>629695</td>\n",
       "      <td>22</td>\n",
       "    </tr>\n",
       "    <tr>\n",
       "      <th>4</th>\n",
       "      <td>4</td>\n",
       "      <td>Mykolaiv</td>\n",
       "      <td>46.9667</td>\n",
       "      <td>32.0000</td>\n",
       "      <td>498748</td>\n",
       "      <td>12</td>\n",
       "    </tr>\n",
       "    <tr>\n",
       "      <th>5</th>\n",
       "      <td>5</td>\n",
       "      <td>Kramatorsk</td>\n",
       "      <td>48.7208</td>\n",
       "      <td>37.5556</td>\n",
       "      <td>159445</td>\n",
       "      <td>11</td>\n",
       "    </tr>\n",
       "    <tr>\n",
       "      <th>6</th>\n",
       "      <td>6</td>\n",
       "      <td>Sievierodonetsk</td>\n",
       "      <td>48.9500</td>\n",
       "      <td>38.4833</td>\n",
       "      <td>150000</td>\n",
       "      <td>10</td>\n",
       "    </tr>\n",
       "    <tr>\n",
       "      <th>7</th>\n",
       "      <td>7</td>\n",
       "      <td>Sloviansk</td>\n",
       "      <td>48.8700</td>\n",
       "      <td>37.6250</td>\n",
       "      <td>113196</td>\n",
       "      <td>7</td>\n",
       "    </tr>\n",
       "    <tr>\n",
       "      <th>8</th>\n",
       "      <td>8</td>\n",
       "      <td>Bakhmut</td>\n",
       "      <td>48.6044</td>\n",
       "      <td>38.0067</td>\n",
       "      <td>75798</td>\n",
       "      <td>7</td>\n",
       "    </tr>\n",
       "    <tr>\n",
       "      <th>9</th>\n",
       "      <td>9</td>\n",
       "      <td>Avdiivka</td>\n",
       "      <td>48.1333</td>\n",
       "      <td>37.7500</td>\n",
       "      <td>34938</td>\n",
       "      <td>4</td>\n",
       "    </tr>\n",
       "    <tr>\n",
       "      <th>10</th>\n",
       "      <td>10</td>\n",
       "      <td>Lyman</td>\n",
       "      <td>48.9861</td>\n",
       "      <td>37.8111</td>\n",
       "      <td>22315</td>\n",
       "      <td>3</td>\n",
       "    </tr>\n",
       "  </tbody>\n",
       "</table>\n",
       "</div>"
      ],
      "text/plain": [
       "    Unnamed: 0             city      lat      lon  population_proper  \\\n",
       "0            0          Kharkiv  50.0000  36.2292            1446107   \n",
       "1            1          Donetsk  48.0089  37.8042             929063   \n",
       "2            2     Zaporizhzhia  47.8378  35.1383             741717   \n",
       "3            3       Kryvyi Rih  47.9086  33.3433             629695   \n",
       "4            4         Mykolaiv  46.9667  32.0000             498748   \n",
       "5            5       Kramatorsk  48.7208  37.5556             159445   \n",
       "6            6  Sievierodonetsk  48.9500  38.4833             150000   \n",
       "7            7        Sloviansk  48.8700  37.6250             113196   \n",
       "8            8          Bakhmut  48.6044  38.0067              75798   \n",
       "9            9         Avdiivka  48.1333  37.7500              34938   \n",
       "10          10            Lyman  48.9861  37.8111              22315   \n",
       "\n",
       "    frequency  \n",
       "0          61  \n",
       "1          54  \n",
       "2          27  \n",
       "3          22  \n",
       "4          12  \n",
       "5          11  \n",
       "6          10  \n",
       "7           7  \n",
       "8           7  \n",
       "9           4  \n",
       "10          3  "
      ]
     },
     "execution_count": 104,
     "metadata": {},
     "output_type": "execute_result"
    }
   ],
   "source": [
    "data"
   ]
  },
  {
   "cell_type": "code",
   "execution_count": 105,
   "id": "b412cbb1",
   "metadata": {},
   "outputs": [],
   "source": [
    "x=np.array(data['population_proper'])\n",
    "y = np.array(data['frequency'])"
   ]
  },
  {
   "cell_type": "code",
   "execution_count": 106,
   "id": "77050453",
   "metadata": {
    "scrolled": true
   },
   "outputs": [
    {
     "data": {
      "image/png": "[encoded data removed]",
      "text/plain": [
       "<Figure size 1080x288 with 2 Axes>"
      ]
     },
     "metadata": {
      "needs_background": "light"
     },
     "output_type": "display_data"
    }
   ],
   "source": [
    "plt.figure(figsize=[15,4])\n",
    "\n",
    "# subplot 2\n",
    "plt.subplot(1,2,1)\n",
    "plt.bar(np.array(data['city']),np.array(data['frequency']))\n",
    "plt.title(\"City and frequency of contests\",fontsize = 20,color='Red')\n",
    "plt.xlabel(\"City Name\",fontsize=14,color='green')\n",
    "plt.ylabel(\"Frequency\",fontsize=14,color='green')\n",
    "plt.xticks(rotation='vertical')\n",
    "\n",
    "# subplot 1\n",
    "plt.subplot(1,2,2)\n",
    "plt.plot(x,y)\n",
    "plt.title(\"Population of city V/s frequency of contests\",fontsize = 20,color='Red')\n",
    "plt.xlabel(\"Population\",fontsize=14,color='green')\n",
    "plt.ylabel(\"Frequency\",fontsize=14,color='green')\n",
    "plt.show()"
   ]
  },
  {
   "cell_type": "markdown",
   "id": "8a501c75",
   "metadata": {},
   "source": [
    "From bar graph it is clear that Kharkiv is the most contested city which also has the highest population"
   ]
  },
  {
   "cell_type": "code",
   "execution_count": 150,
   "id": "d8fcc11d",
   "metadata": {},
   "outputs": [
    {
     "data": {
      "text/html": [
       "<div>\n",
       "<style scoped>\n",
       "    .dataframe tbody tr th:only-of-type {\n",
       "        vertical-align: middle;\n",
       "    }\n",
       "\n",
       "    .dataframe tbody tr th {\n",
       "        vertical-align: top;\n",
       "    }\n",
       "\n",
       "    .dataframe thead th {\n",
       "        text-align: right;\n",
       "    }\n",
       "</style>\n",
       "<table border=\"1\" class=\"dataframe\">\n",
       "  <thead>\n",
       "    <tr style=\"text-align: right;\">\n",
       "      <th></th>\n",
       "      <th>Unnamed: 0</th>\n",
       "      <th>personnel</th>\n",
       "    </tr>\n",
       "    <tr>\n",
       "      <th>day</th>\n",
       "      <th></th>\n",
       "      <th></th>\n",
       "    </tr>\n",
       "  </thead>\n",
       "  <tbody>\n",
       "    <tr>\n",
       "      <th>2</th>\n",
       "      <td>0</td>\n",
       "      <td>2800</td>\n",
       "    </tr>\n",
       "    <tr>\n",
       "      <th>3</th>\n",
       "      <td>1</td>\n",
       "      <td>4300</td>\n",
       "    </tr>\n",
       "    <tr>\n",
       "      <th>4</th>\n",
       "      <td>2</td>\n",
       "      <td>4500</td>\n",
       "    </tr>\n",
       "    <tr>\n",
       "      <th>5</th>\n",
       "      <td>3</td>\n",
       "      <td>5300</td>\n",
       "    </tr>\n",
       "    <tr>\n",
       "      <th>6</th>\n",
       "      <td>4</td>\n",
       "      <td>5710</td>\n",
       "    </tr>\n",
       "    <tr>\n",
       "      <th>...</th>\n",
       "      <td>...</td>\n",
       "      <td>...</td>\n",
       "    </tr>\n",
       "    <tr>\n",
       "      <th>224</th>\n",
       "      <td>222</td>\n",
       "      <td>61000</td>\n",
       "    </tr>\n",
       "    <tr>\n",
       "      <th>225</th>\n",
       "      <td>223</td>\n",
       "      <td>61330</td>\n",
       "    </tr>\n",
       "    <tr>\n",
       "      <th>226</th>\n",
       "      <td>224</td>\n",
       "      <td>61680</td>\n",
       "    </tr>\n",
       "    <tr>\n",
       "      <th>227</th>\n",
       "      <td>225</td>\n",
       "      <td>62060</td>\n",
       "    </tr>\n",
       "    <tr>\n",
       "      <th>228</th>\n",
       "      <td>226</td>\n",
       "      <td>62500</td>\n",
       "    </tr>\n",
       "  </tbody>\n",
       "</table>\n",
       "<p>227 rows × 2 columns</p>\n",
       "</div>"
      ],
      "text/plain": [
       "     Unnamed: 0  personnel\n",
       "day                       \n",
       "2             0       2800\n",
       "3             1       4300\n",
       "4             2       4500\n",
       "5             3       5300\n",
       "6             4       5710\n",
       "..          ...        ...\n",
       "224         222      61000\n",
       "225         223      61330\n",
       "226         224      61680\n",
       "227         225      62060\n",
       "228         226      62500\n",
       "\n",
       "[227 rows x 2 columns]"
      ]
     },
     "execution_count": 150,
     "metadata": {},
     "output_type": "execute_result"
    }
   ],
   "source": [
    "# Example Dataset 2\n",
    "data_2 = pd.read_csv(\"smo_people_loss.csv\")\n",
    "data_2 = data_2.groupby(\"day\").sum()\n",
    "data_2\n",
    "# data_2.describe()"
   ]
  },
  {
   "cell_type": "code",
   "execution_count": 149,
   "id": "c6af06f0",
   "metadata": {},
   "outputs": [
    {
     "data": {
      "image/png": "[encoded data removed]",
      "text/plain": [
       "<Figure size 720x360 with 1 Axes>"
      ]
     },
     "metadata": {
      "needs_background": "light"
     },
     "output_type": "display_data"
    }
   ],
   "source": [
    "x = np.array(data_2.iloc[:,0])\n",
    "y = np.array(data_2[\"personnel\"])\n",
    "\n",
    "fig = plt.figure(figsize=[10,5])\n",
    "plt.plot(x,y)\n",
    "plt.xlabel(\"Days\",fontsize=16,color='red')\n",
    "plt.ylabel(\"No of Deaths\",fontsize=16,color='red')\n",
    "plt.title(\"No of deaths v/s Days\",fontsize=20,color='blue')\n",
    "plt.grid()\n",
    "plt.show()"
   ]
  },
  {
   "cell_type": "code",
   "execution_count": null,
   "id": "acdec395",
   "metadata": {},
   "outputs": [],
   "source": []
  },
  {
   "cell_type": "code",
   "execution_count": null,
   "id": "8d91cec6",
   "metadata": {},
   "outputs": [],
   "source": []
  },
  {
   "cell_type": "code",
   "execution_count": null,
   "id": "760ee4d8",
   "metadata": {},
   "outputs": [],
   "source": []
  },
  {
   "cell_type": "code",
   "execution_count": null,
   "id": "6e8c4b41",
   "metadata": {},
   "outputs": [],
   "source": []
  },
  {
   "cell_type": "code",
   "execution_count": null,
   "id": "5e983ec6",
   "metadata": {},
   "outputs": [],
   "source": []
  }
 ],
 "metadata": {
  "kernelspec": {
   "display_name": "Python 3 (ipykernel)",
   "language": "python",
   "name": "python3"
  },
  "language_info": {
   "codemirror_mode": {
    "name": "ipython",
    "version": 3
   },
   "file_extension": ".py",
   "mimetype": "text/x-python",
   "name": "python",
   "nbconvert_exporter": "python",
   "pygments_lexer": "ipython3",
   "version": "3.9.12"
  }
 },
 "nbformat": 4,
 "nbformat_minor": 5
}
