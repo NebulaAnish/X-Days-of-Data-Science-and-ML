{
 "cells": [
  {
   "cell_type": "markdown",
   "id": "414a8f32",
   "metadata": {},
   "source": [
    "# Day3\n"
   ]
  },
  {
   "cell_type": "markdown",
   "id": "e4ddb132",
   "metadata": {},
   "source": [
    "### Steps for plotting a cost function graph :\n",
    "- Define the given function\n",
    "- Determine values of x ; make an array of sample data\n",
    "- plot $(x,f(x))$ at each points"
   ]
  },
  {
   "cell_type": "markdown",
   "id": "10e9c580",
   "metadata": {},
   "source": [
    "## Cost Function\n",
    "$f(x)=x^2+x+1 $\n"
   ]
  },
  {
   "cell_type": "code",
   "execution_count": 2,
   "id": "315620a8",
   "metadata": {},
   "outputs": [],
   "source": [
    "def f(x):\n",
    "    return x**2 + x + 1"
   ]
  },
  {
   "cell_type": "code",
   "execution_count": 4,
   "id": "1bc94726",
   "metadata": {},
   "outputs": [],
   "source": [
    "import numpy as np\n",
    "import matplotlib.pyplot as plt"
   ]
  },
  {
   "cell_type": "code",
   "execution_count": 16,
   "id": "f43ef20e",
   "metadata": {},
   "outputs": [],
   "source": [
    "x_1 = np.linspace(start=-3.5,stop = 2.5,num = 100)"
   ]
  },
  {
   "cell_type": "code",
   "execution_count": 27,
   "id": "30934b56",
   "metadata": {},
   "outputs": [],
   "source": [
    "# to show x,y axis\n",
    "axis = np.linspace(-20,20,10)"
   ]
  },
  {
   "cell_type": "code",
   "execution_count": 29,
   "id": "4306d9b5",
   "metadata": {},
   "outputs": [
    {
     "data": {
      "image/png": "[encoded data removed]",
      "text/plain": [
       "<Figure size 432x288 with 1 Axes>"
      ]
     },
     "metadata": {
      "needs_background": "light"
     },
     "output_type": "display_data"
    }
   ],
   "source": [
    "plt.plot(axis*0,axis,color=\"black\")   #y-axis\n",
    "plt.plot(axis,axis*0,color=\"black\")   #x-axis\n",
    "\n",
    "plt.plot(x_1,f(x_1))\n",
    "plt.xlabel(\"X\", fontsize=16)\n",
    "plt.ylabel(\"F(x)\",fontsize =16)\n",
    "plt.title(\"f(x)=x^2+x+1\")\n",
    "plt.xlim(-3.9,3.5)\n",
    "plt.ylim(-3,12)\n",
    "plt.show()"
   ]
  },
  {
   "cell_type": "markdown",
   "id": "ad61ea71",
   "metadata": {},
   "source": [
    "## Slope using Derivative"
   ]
  },
  {
   "cell_type": "code",
   "execution_count": 30,
   "id": "dedd8249",
   "metadata": {},
   "outputs": [],
   "source": [
    "def df(x):\n",
    "    return 2*x +1"
   ]
  },
  {
   "cell_type": "code",
   "execution_count": null,
   "id": "d5f56a9a",
   "metadata": {},
   "outputs": [],
   "source": []
  }
 ],
 "metadata": {
  "kernelspec": {
   "display_name": "Python 3 (ipykernel)",
   "language": "python",
   "name": "python3"
  },
  "language_info": {
   "codemirror_mode": {
    "name": "ipython",
    "version": 3
   },
   "file_extension": ".py",
   "mimetype": "text/x-python",
   "name": "python",
   "nbconvert_exporter": "python",
   "pygments_lexer": "ipython3",
   "version": "3.9.12"
  }
 },
 "nbformat": 4,
 "nbformat_minor": 5
}
