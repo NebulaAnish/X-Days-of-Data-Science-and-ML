{
 "cells": [
  {
   "cell_type": "code",
   "execution_count": 204,
   "id": "c8623be0",
   "metadata": {},
   "outputs": [],
   "source": [
    "import numpy as np\n",
    "import matplotlib.pyplot as plt"
   ]
  },
  {
   "cell_type": "markdown",
   "id": "5270be69",
   "metadata": {},
   "source": [
    "## Data for H"
   ]
  },
  {
   "cell_type": "code",
   "execution_count": 205,
   "id": "3596c5e2",
   "metadata": {},
   "outputs": [],
   "source": [
    "## H\n",
    "# H vertical \n",
    "y_1 = np.linspace(5,15,2)\n",
    "x_1 = [0 for y in y_1]   # done to match dimensions of y_1 and x_1\n",
    "\n",
    "# H horizontal\n",
    "x_2 = np.linspace(0,3,2)"
   ]
  },
  {
   "cell_type": "markdown",
   "id": "beced41f",
   "metadata": {},
   "source": [
    "## Data for A"
   ]
  },
  {
   "cell_type": "code",
   "execution_count": 206,
   "id": "474a07e3",
   "metadata": {},
   "outputs": [],
   "source": [
    "# goes from (0,0) to (3,0) in x-axis\n",
    "# slant line of A\n",
    "\n",
    "def line_1(x):\n",
    "    return 5*x -15\n",
    "def line_2(x):\n",
    "    return -5*x + 45\n",
    "\n",
    "# line _1\n",
    "x_3 = np.linspace(4,6,2)\n",
    "y_3 = [line_1(i) for i in x_3 ]\n",
    "\n",
    "# line_2\n",
    "x_4 = np.linspace(6,8,2)\n",
    "y_4 = [line_2(i) for i in x_4]\n",
    "\n",
    "# horizontal line \n",
    "x_5 = np.linspace(5,7)\n",
    "y_5 = [10 for i in x_5]"
   ]
  },
  {
   "cell_type": "markdown",
   "id": "4471f1c2",
   "metadata": {},
   "source": [
    "### Parametric equation of circle\n",
    "\n",
    "- $ x^2 + y^2 = r^2 $ can be replaced by $ x = r cos\\theta $ & $ y = rsin\\theta $\n",
    "- Similarly, $ (x-h)^2 + (y-k)^2 = r^2 $ can be replaced by $ x = h + rcos\\theta $ & $ y = k + rsin\\theta $ "
   ]
  },
  {
   "cell_type": "markdown",
   "id": "a9c48df8",
   "metadata": {},
   "source": [
    "## Data for both P"
   ]
  },
  {
   "cell_type": "code",
   "execution_count": 207,
   "id": "784389e7",
   "metadata": {},
   "outputs": [],
   "source": [
    "# semi_cirlce by using parametric equation of a circle\n",
    "def semi_circle(h,k,radius):  \n",
    "    theta = np.linspace( (np.pi)/2 , -(np.pi)/2 , 150 )  # to only draw circle from 90 to 270; i.e a semi-circle\n",
    "    a = h +radius * np.cos( theta )\n",
    "    b = k + radius * np.sin( theta )\n",
    "    return a,b\n",
    "\n",
    "y_6 = np.linspace(5,15)      # for vertical line\n",
    "x_6 = [9 for i in y_6]\n",
    "x_7,y_7 = semi_circle(9,12.5,2.5)  # for P semi circle\n",
    "\n",
    "# Second P : from (12,0) to (14.5,0)\n",
    "y_8 = np.linspace(5,15)\n",
    "x_8 = [12 for i in y_8]\n",
    "x_9, y_9 = semi_circle(12,12.5,2.5)"
   ]
  },
  {
   "cell_type": "markdown",
   "id": "96c34edc",
   "metadata": {},
   "source": [
    "## Data for Y"
   ]
  },
  {
   "cell_type": "code",
   "execution_count": 208,
   "id": "b8bdc5c2",
   "metadata": {},
   "outputs": [],
   "source": [
    "def line_3(x):\n",
    "    return (10/3)*(x-15) + 5\n",
    "def line_4(x):\n",
    "    return (-10/3)*(x-15) + 15\n",
    "x_10 = np.linspace(15,18)\n",
    "y_10 = [line_3(i) for i in x_10]\n",
    "\n",
    "x_11 = np.linspace(15,16.5)\n",
    "y_11 = [line_4(i) for i in x_11]"
   ]
  },
  {
   "cell_type": "markdown",
   "id": "d2b0ef71",
   "metadata": {},
   "source": [
    "## Data for T"
   ]
  },
  {
   "cell_type": "code",
   "execution_count": 209,
   "id": "9b4c0843",
   "metadata": {},
   "outputs": [],
   "source": [
    "## T\n",
    "# T vertical \n",
    "y_12 = np.linspace(5,15,2)\n",
    "x_12 = [22 for i in y_12]   # done to match dimensions of y_1 and x_1\n",
    "\n",
    "# T horizontal\n",
    "x_13 = np.linspace(20,24,2)"
   ]
  },
  {
   "cell_type": "markdown",
   "id": "e237ce20",
   "metadata": {},
   "source": [
    "## Data for I "
   ]
  },
  {
   "cell_type": "code",
   "execution_count": 210,
   "id": "c22524e8",
   "metadata": {},
   "outputs": [],
   "source": [
    "# I vertical \n",
    "y_14 = np.linspace(5,15,2)\n",
    "x_14 = [25 for i in y_14]   # done to match dimensions of y_1 and x_1\n",
    "\n"
   ]
  },
  {
   "cell_type": "markdown",
   "id": "0d65dc2c",
   "metadata": {},
   "source": [
    "## Data for H"
   ]
  },
  {
   "cell_type": "code",
   "execution_count": 211,
   "id": "cd0a3979",
   "metadata": {},
   "outputs": [],
   "source": [
    "## H\n",
    "# H vertical \n",
    "y_15 = np.linspace(5,15,2)\n",
    "x_15 = [26 for y in y_15]   # done to match dimensions of y_1 and x_1\n",
    "\n",
    "# H vertical second\n",
    "x_17 = [29 for i in y_1]\n",
    "\n",
    "# H horizontal\n",
    "x_16 = np.linspace(26,29)\n",
    "y_16 = [10 for i in x_16]"
   ]
  },
  {
   "cell_type": "markdown",
   "id": "73a10cf6",
   "metadata": {},
   "source": [
    "## Data for A 2"
   ]
  },
  {
   "cell_type": "code",
   "execution_count": 212,
   "id": "d7f9369b",
   "metadata": {},
   "outputs": [],
   "source": [
    "# slant line of A\n",
    "def line_5(x):\n",
    "    return 5*x -145\n",
    "def line_6(x):\n",
    "    return -5*x + 175\n",
    "\n",
    "# line _1\n",
    "x_18 = np.linspace(30,32,2)\n",
    "y_18= [line_5(i) for i in x_18 ]\n",
    "\n",
    "# line_2\n",
    "x_19 = np.linspace(32,34,2)\n",
    "y_19 = [line_6(i) for i in x_19]\n",
    "\n",
    "# horizontal line \n",
    "x_20 = np.linspace(31,33)\n",
    "y_20 = [10 for i in x_20]"
   ]
  },
  {
   "cell_type": "markdown",
   "id": "a4aff52c",
   "metadata": {},
   "source": [
    "## Data for R"
   ]
  },
  {
   "cell_type": "code",
   "execution_count": 223,
   "id": "a6e0067f",
   "metadata": {},
   "outputs": [],
   "source": [
    "# vertical line\n",
    "x_21 = [35 for i in y_1]\n",
    "\n",
    "# semi-circle\n",
    "x_22,y_22 = semi_circle(35,12.5,2.5)  # for P semi circle\n",
    "\n",
    "# tail of R\n",
    "\n",
    "def line_7(x):\n",
    "    return -2*x + 80\n",
    "x_23 = np.linspace(35,37.5,2)\n",
    "y_23 = [line_7(i) for i in x_23]"
   ]
  },
  {
   "cell_type": "markdown",
   "id": "1a96885c",
   "metadata": {},
   "source": [
    "# All Plots"
   ]
  },
  {
   "cell_type": "code",
   "execution_count": 244,
   "id": "506c899f",
   "metadata": {},
   "outputs": [
    {
     "data": {
      "image/png": "[encoded data removed]",
      "text/plain": [
       "<Figure size 1440x432 with 1 Axes>"
      ]
     },
     "metadata": {
      "needs_background": "light"
     },
     "output_type": "display_data"
    }
   ],
   "source": [
    "COLOR_1 = \"blue\"\n",
    "COLOR_2 = 'red'\n",
    "\n",
    "plt.figure(figsize=[20,6])\n",
    "plt.xlim(-5,50)\n",
    "plt.ylim(0,20)\n",
    "\n",
    "## H\n",
    "plt.plot(x_1,y_1,color=COLOR_1)                 # plot 0f left H\n",
    "plt.plot([3 for y in y_1],y_1,color=COLOR_1)    # plot of right H\n",
    "plt.plot(x_2,[10 for y in x_2],color=COLOR_1)   # plot of H horizontal\n",
    "\n",
    "## A\n",
    "plt.plot(x_3,y_3,color=COLOR_1)  # plot of slant A left\n",
    "plt.plot(x_4,y_4,color=COLOR_1)  # plot of slant A right\n",
    "plt.plot(x_5,y_5,color=COLOR_1)  # plot of horizontal A\n",
    "\n",
    "\n",
    "## P1\n",
    "plt.plot(x_6,y_6,color=COLOR_1)    # plot of P vertical line\n",
    "plt.plot(x_7,y_7,color=COLOR_1)    # plot for semi-cirle of p1\n",
    "\n",
    "## P2\n",
    "plt.plot(x_8,y_8,color=COLOR_1)    # plot of p vertical line\n",
    "plt.plot(x_9,y_9,color=COLOR_1)      # plot of semi-circle of P2\n",
    "\n",
    "## Y\n",
    "plt.plot(x_10,y_10, color = COLOR_1) # plot of Y right line\n",
    "plt.plot(x_11,y_11,color=COLOR_1)    # plot of Y left line\n",
    "\n",
    "## T\n",
    "plt.plot(x_12,y_12,color=COLOR_2)   # vertical line of T\n",
    "plt.plot(x_13,[15 for i in x_13],color=COLOR_2)   # Horizontal line of T\n",
    "\n",
    "## I\n",
    "plt.plot(x_14,y_14,color=COLOR_2)   # plot of I line\n",
    "\n",
    "## H\n",
    "plt.plot(x_15,y_15,color=COLOR_2)   # plot of H left line\n",
    "plt.plot(x_16,y_16,color=COLOR_2)   # plot of H horizonta line\n",
    "plt.plot(x_17,y_1,color=COLOR_2)    # plot of H right line\n",
    "\n",
    "## A\n",
    "plt.plot(x_18,y_18,color=COLOR_2)   # plot of A left line\n",
    "plt.plot(x_19,y_19,color=COLOR_2)   # plot of A right line\n",
    "plt.plot(x_20,y_20,color=COLOR_2)   # plot of A horizontal line\n",
    "\n",
    "## R\n",
    "\n",
    "plt.plot(x_21,y_1,color=COLOR_2)    # plot of R vertical\n",
    "plt.plot(x_22,y_22,color=COLOR_2)   # plot of R semi-circle head \n",
    "plt.plot(x_23,y_23,color=COLOR_2)   # plot of R tail\n",
    "\n",
    "# plt.xticks([x for x in range(50)])\n",
    "# plt.grid()\n",
    "plt.show()"
   ]
  },
  {
   "cell_type": "code",
   "execution_count": null,
   "id": "75beaa41",
   "metadata": {},
   "outputs": [],
   "source": []
  },
  {
   "cell_type": "code",
   "execution_count": null,
   "id": "7df0ef12",
   "metadata": {},
   "outputs": [],
   "source": []
  },
  {
   "cell_type": "code",
   "execution_count": null,
   "id": "133a755a",
   "metadata": {},
   "outputs": [],
   "source": []
  },
  {
   "cell_type": "code",
   "execution_count": null,
   "id": "25a8ad74",
   "metadata": {},
   "outputs": [],
   "source": []
  },
  {
   "cell_type": "code",
   "execution_count": null,
   "id": "b9698d8a",
   "metadata": {},
   "outputs": [],
   "source": []
  }
 ],
 "metadata": {
  "kernelspec": {
   "display_name": "Python 3 (ipykernel)",
   "language": "python",
   "name": "python3"
  },
  "language_info": {
   "codemirror_mode": {
    "name": "ipython",
    "version": 3
   },
   "file_extension": ".py",
   "mimetype": "text/x-python",
   "name": "python",
   "nbconvert_exporter": "python",
   "pygments_lexer": "ipython3",
   "version": "3.9.12"
  }
 },
 "nbformat": 4,
 "nbformat_minor": 5
}
