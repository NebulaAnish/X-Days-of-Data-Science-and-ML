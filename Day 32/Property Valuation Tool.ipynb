{
 "cells": [
  {
   "cell_type": "code",
   "execution_count": 76,
   "id": "6a1f7b77",
   "metadata": {},
   "outputs": [],
   "source": [
    "from sklearn.datasets import load_boston\n",
    "from sklearn.linear_model import LinearRegression\n",
    "from sklearn.metrics import mean_squared_error\n",
    "\n",
    "import pandas as pd\n",
    "import numpy as np\n"
   ]
  },
  {
   "cell_type": "code",
   "execution_count": 77,
   "id": "bdfab72d",
   "metadata": {},
   "outputs": [
    {
     "name": "stderr",
     "output_type": "stream",
     "text": [
      "C:\\ProgramData\\Anaconda3\\lib\\site-packages\\sklearn\\utils\\deprecation.py:87: FutureWarning: Function load_boston is deprecated; `load_boston` is deprecated in 1.0 and will be removed in 1.2.\n",
      "\n",
      "    The Boston housing prices dataset has an ethical problem. You can refer to\n",
      "    the documentation of this function for further details.\n",
      "\n",
      "    The scikit-learn maintainers therefore strongly discourage the use of this\n",
      "    dataset unless the purpose of the code is to study and educate about\n",
      "    ethical issues in data science and machine learning.\n",
      "\n",
      "    In this special case, you can fetch the dataset from the original\n",
      "    source::\n",
      "\n",
      "        import pandas as pd\n",
      "        import numpy as np\n",
      "\n",
      "\n",
      "        data_url = \"http://lib.stat.cmu.edu/datasets/boston\"\n",
      "        raw_df = pd.read_csv(data_url, sep=\"\\s+\", skiprows=22, header=None)\n",
      "        data = np.hstack([raw_df.values[::2, :], raw_df.values[1::2, :2]])\n",
      "        target = raw_df.values[1::2, 2]\n",
      "\n",
      "    Alternative datasets include the California housing dataset (i.e.\n",
      "    :func:`~sklearn.datasets.fetch_california_housing`) and the Ames housing\n",
      "    dataset. You can load the datasets as follows::\n",
      "\n",
      "        from sklearn.datasets import fetch_california_housing\n",
      "        housing = fetch_california_housing()\n",
      "\n",
      "    for the California housing dataset and::\n",
      "\n",
      "        from sklearn.datasets import fetch_openml\n",
      "        housing = fetch_openml(name=\"house_prices\", as_frame=True)\n",
      "\n",
      "    for the Ames housing dataset.\n",
      "    \n",
      "  warnings.warn(msg, category=FutureWarning)\n"
     ]
    }
   ],
   "source": [
    "# Data\n",
    "\n",
    "boston_dataset = load_boston()\n",
    "data = pd.DataFrame(data=boston_dataset.data,columns =boston_dataset.feature_names)"
   ]
  },
  {
   "cell_type": "code",
   "execution_count": 78,
   "id": "068f783e",
   "metadata": {},
   "outputs": [
    {
     "data": {
      "text/plain": [
       "(506, 1)"
      ]
     },
     "execution_count": 78,
     "metadata": {},
     "output_type": "execute_result"
    }
   ],
   "source": [
    "features = data.drop(['INDUS',\"AGE\"],axis=1)\n",
    "# features.head()\n",
    "log_prices = np.log(boston_dataset.target)\n",
    "target = pd.DataFrame(log_prices,columns = [\"PRICES\"])\n",
    "target.shape"
   ]
  },
  {
   "cell_type": "code",
   "execution_count": 79,
   "id": "bfdbe7fc",
   "metadata": {},
   "outputs": [
    {
     "data": {
      "text/html": [
       "<div>\n",
       "<style scoped>\n",
       "    .dataframe tbody tr th:only-of-type {\n",
       "        vertical-align: middle;\n",
       "    }\n",
       "\n",
       "    .dataframe tbody tr th {\n",
       "        vertical-align: top;\n",
       "    }\n",
       "\n",
       "    .dataframe thead th {\n",
       "        text-align: right;\n",
       "    }\n",
       "</style>\n",
       "<table border=\"1\" class=\"dataframe\">\n",
       "  <thead>\n",
       "    <tr style=\"text-align: right;\">\n",
       "      <th></th>\n",
       "      <th>CRIM</th>\n",
       "      <th>ZN</th>\n",
       "      <th>CHAS</th>\n",
       "      <th>NOX</th>\n",
       "      <th>RM</th>\n",
       "      <th>DIS</th>\n",
       "      <th>RAD</th>\n",
       "      <th>TAX</th>\n",
       "      <th>PTRATIO</th>\n",
       "      <th>B</th>\n",
       "      <th>LSTAT</th>\n",
       "    </tr>\n",
       "  </thead>\n",
       "  <tbody>\n",
       "    <tr>\n",
       "      <th>0</th>\n",
       "      <td>0.00632</td>\n",
       "      <td>18.0</td>\n",
       "      <td>0.0</td>\n",
       "      <td>0.538</td>\n",
       "      <td>6.575</td>\n",
       "      <td>4.0900</td>\n",
       "      <td>1.0</td>\n",
       "      <td>296.0</td>\n",
       "      <td>15.3</td>\n",
       "      <td>396.90</td>\n",
       "      <td>4.98</td>\n",
       "    </tr>\n",
       "    <tr>\n",
       "      <th>1</th>\n",
       "      <td>0.02731</td>\n",
       "      <td>0.0</td>\n",
       "      <td>0.0</td>\n",
       "      <td>0.469</td>\n",
       "      <td>6.421</td>\n",
       "      <td>4.9671</td>\n",
       "      <td>2.0</td>\n",
       "      <td>242.0</td>\n",
       "      <td>17.8</td>\n",
       "      <td>396.90</td>\n",
       "      <td>9.14</td>\n",
       "    </tr>\n",
       "    <tr>\n",
       "      <th>2</th>\n",
       "      <td>0.02729</td>\n",
       "      <td>0.0</td>\n",
       "      <td>0.0</td>\n",
       "      <td>0.469</td>\n",
       "      <td>7.185</td>\n",
       "      <td>4.9671</td>\n",
       "      <td>2.0</td>\n",
       "      <td>242.0</td>\n",
       "      <td>17.8</td>\n",
       "      <td>392.83</td>\n",
       "      <td>4.03</td>\n",
       "    </tr>\n",
       "    <tr>\n",
       "      <th>3</th>\n",
       "      <td>0.03237</td>\n",
       "      <td>0.0</td>\n",
       "      <td>0.0</td>\n",
       "      <td>0.458</td>\n",
       "      <td>6.998</td>\n",
       "      <td>6.0622</td>\n",
       "      <td>3.0</td>\n",
       "      <td>222.0</td>\n",
       "      <td>18.7</td>\n",
       "      <td>394.63</td>\n",
       "      <td>2.94</td>\n",
       "    </tr>\n",
       "    <tr>\n",
       "      <th>4</th>\n",
       "      <td>0.06905</td>\n",
       "      <td>0.0</td>\n",
       "      <td>0.0</td>\n",
       "      <td>0.458</td>\n",
       "      <td>7.147</td>\n",
       "      <td>6.0622</td>\n",
       "      <td>3.0</td>\n",
       "      <td>222.0</td>\n",
       "      <td>18.7</td>\n",
       "      <td>396.90</td>\n",
       "      <td>5.33</td>\n",
       "    </tr>\n",
       "  </tbody>\n",
       "</table>\n",
       "</div>"
      ],
      "text/plain": [
       "      CRIM    ZN  CHAS    NOX     RM     DIS  RAD    TAX  PTRATIO       B  \\\n",
       "0  0.00632  18.0   0.0  0.538  6.575  4.0900  1.0  296.0     15.3  396.90   \n",
       "1  0.02731   0.0   0.0  0.469  6.421  4.9671  2.0  242.0     17.8  396.90   \n",
       "2  0.02729   0.0   0.0  0.469  7.185  4.9671  2.0  242.0     17.8  392.83   \n",
       "3  0.03237   0.0   0.0  0.458  6.998  6.0622  3.0  222.0     18.7  394.63   \n",
       "4  0.06905   0.0   0.0  0.458  7.147  6.0622  3.0  222.0     18.7  396.90   \n",
       "\n",
       "   LSTAT  \n",
       "0   4.98  \n",
       "1   9.14  \n",
       "2   4.03  \n",
       "3   2.94  \n",
       "4   5.33  "
      ]
     },
     "execution_count": 79,
     "metadata": {},
     "output_type": "execute_result"
    }
   ],
   "source": [
    "features.head()"
   ]
  },
  {
   "cell_type": "code",
   "execution_count": 80,
   "id": "ff7bc0ae",
   "metadata": {},
   "outputs": [],
   "source": [
    "CRIM_idx = 0\n",
    "ZN_idx = 1\n",
    "CHAS_idx = 2\n",
    "RM_idx = 4\n",
    "PTRATIO_idx = 8\n",
    "# property_stats is a dummy data to test our model. it needs to have values for all paramters or columns in our dataset\n",
    "property_stats = np.array(features.mean()).reshape(1,11)\n",
    "# property_stats"
   ]
  },
  {
   "cell_type": "code",
   "execution_count": 81,
   "id": "d717647e",
   "metadata": {},
   "outputs": [
    {
     "data": {
      "text/plain": [
       "0.18751213519713034"
      ]
     },
     "execution_count": 81,
     "metadata": {},
     "output_type": "execute_result"
    }
   ],
   "source": [
    "regr = LinearRegression().fit(features,target)\n",
    "fitted_vals = regr.predict(features)\n",
    "\n",
    "# Find mean squared and root mean squared errors\n",
    "MSE = mean_squared_error(target,fitted_vals)\n",
    "RMSE = np.sqrt(MSE)\n",
    "RMSE"
   ]
  },
  {
   "cell_type": "code",
   "execution_count": 82,
   "id": "7601b622",
   "metadata": {},
   "outputs": [],
   "source": [
    "def get_log_estimate(number_of_rooms,\n",
    "                    students_per_classroom,\n",
    "                     next_to_river= False,\n",
    "                    high_confidence=True):\n",
    "    \n",
    "    property_stats[0][RM_idx] = number_of_rooms\n",
    "    property_stats[0][PTRATIO_idx] = students_per_classroom\n",
    "    \n",
    "    if next_to_river:\n",
    "        property_stats[0][CHAS_idx] = 1\n",
    "    else:\n",
    "        property_stats[0][CHAS_idx] = 0\n",
    "    log_estimate = regr.predict(property_stats)[0][0]\n",
    "    \n",
    "    if high_confidence:\n",
    "        lower_bound = log_estimate - 2* RMSE\n",
    "        upper_bound = log_estimate + 2* RMSE\n",
    "        interval = 95\n",
    "    else:\n",
    "        lower_bound = log_estimate - RMSE\n",
    "        upper_bound = log_estimate + RMSE\n",
    "        interval = 68\n",
    "    \n",
    "    return log_estimate,lower_bound,upper_bound,interval"
   ]
  },
  {
   "cell_type": "code",
   "execution_count": 92,
   "id": "6554a484",
   "metadata": {},
   "outputs": [
    {
     "name": "stdout",
     "output_type": "stream",
     "text": [
      "(3.136541553104004, 2.7615172827097436, 3.5115658234982647, 95)\n"
     ]
    },
    {
     "name": "stderr",
     "output_type": "stream",
     "text": [
      "C:\\ProgramData\\Anaconda3\\lib\\site-packages\\sklearn\\base.py:450: UserWarning: X does not have valid feature names, but LinearRegression was fitted with feature names\n",
      "  warnings.warn(\n"
     ]
    }
   ],
   "source": [
    "print(get_log_estimate(number_of_rooms=4,students_per_classroom=10))"
   ]
  },
  {
   "cell_type": "code",
   "execution_count": 87,
   "id": "3fbe54ad",
   "metadata": {},
   "outputs": [],
   "source": [
    "old_median_price =np.median(boston_dataset.target)"
   ]
  },
  {
   "cell_type": "code",
   "execution_count": 106,
   "id": "fa7c684b",
   "metadata": {},
   "outputs": [],
   "source": [
    "today_median_price = 583.3\n",
    "scale_factor = today_median_price / old_median_price\n"
   ]
  },
  {
   "cell_type": "code",
   "execution_count": 136,
   "id": "77cc6ee8",
   "metadata": {},
   "outputs": [],
   "source": [
    "def get_dollar_estimate(number_of_rooms,students_per_classroom,next_to_river=False,high_confidence=True):\n",
    "    \"\"\" Estimate the price of property in boston.\n",
    "    Parameters: \n",
    "    number_of_rooms -- int\n",
    "        Number of rooms in the property\n",
    "    students_per_classroom -- Number of students in a classroom in that area\n",
    "    \n",
    "    next_to_river -- bool,optional\n",
    "        True if property is close to river else False\n",
    "    high_confidence -- bool,optional\n",
    "        True for high range and false for a lower range\n",
    "    \n",
    "    \n",
    "    \"\"\"\n",
    "    \n",
    "    \n",
    "    if number_of_rooms != int(number_of_rooms):\n",
    "        print(\"Room number can't be float\")\n",
    "        return\n",
    "    if number_of_rooms<1 or students_per_classroom <1 or students_per_classroom >100:\n",
    "        print(\"Enter realistic values and try again !! \")\n",
    "        return\n",
    "    \n",
    "    log_est,lower,upper,conf = get_log_estimate(number_of_rooms,students_per_classroom,\n",
    "                                                next_to_river,high_confidence)\n",
    "\n",
    "    # converting to today's dollar estimated value\n",
    "    dollar_est = np.e ** log_est * 1000 * scale_factor\n",
    "    dollar_upper = np.e ** upper * 1000 * scale_factor\n",
    "    dollar_lower = np.e ** lower * 1000 * scale_factor\n",
    "\n",
    "    rounded_est = round(dollar_est,-3)\n",
    "    rounded_upper = round(dollar_upper,-3)\n",
    "    rounded_lower = round(dollar_lower,-3)\n",
    "\n",
    "    print(f\"Estimated price is {rounded_est}\")\n",
    "    print(f'At {conf}% confidence lower end is {rounded_lower} and higher end is {rounded_upper}')\n"
   ]
  },
  {
   "cell_type": "code",
   "execution_count": 137,
   "id": "be4f33b6",
   "metadata": {},
   "outputs": [
    {
     "name": "stdout",
     "output_type": "stream",
     "text": [
      "Room number can't be float\n"
     ]
    }
   ],
   "source": [
    "get_dollar_estimate(4.5,15)"
   ]
  },
  {
   "cell_type": "code",
   "execution_count": null,
   "id": "f7bbcef8",
   "metadata": {},
   "outputs": [],
   "source": []
  },
  {
   "cell_type": "code",
   "execution_count": null,
   "id": "dfadbd31",
   "metadata": {},
   "outputs": [],
   "source": []
  },
  {
   "cell_type": "code",
   "execution_count": null,
   "id": "d994b207",
   "metadata": {},
   "outputs": [],
   "source": []
  }
 ],
 "metadata": {
  "kernelspec": {
   "display_name": "Python 3 (ipykernel)",
   "language": "python",
   "name": "python3"
  },
  "language_info": {
   "codemirror_mode": {
    "name": "ipython",
    "version": 3
   },
   "file_extension": ".py",
   "mimetype": "text/x-python",
   "name": "python",
   "nbconvert_exporter": "python",
   "pygments_lexer": "ipython3",
   "version": "3.9.12"
  }
 },
 "nbformat": 4,
 "nbformat_minor": 5
}
