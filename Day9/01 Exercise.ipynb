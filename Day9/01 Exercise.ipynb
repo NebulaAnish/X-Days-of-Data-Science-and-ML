{
 "cells": [
  {
   "cell_type": "code",
   "execution_count": 155,
   "id": "c1e0aa88",
   "metadata": {},
   "outputs": [],
   "source": [
    "#imports\n",
    "import requests\n",
    "from bs4 import BeautifulSoup as bs\n",
    "\n",
    "#Basic Starting points\n",
    "URL = \"https://keithgalli.github.io/web-scraping/webpage.html\"\n",
    "r = requests.get(URL)\n",
    "webpage = bs(r.content)\n",
    "# print(webpage.prettify())"
   ]
  },
  {
   "cell_type": "markdown",
   "id": "35eae70c",
   "metadata": {},
   "source": [
    "## Task 1 : Grab all social links from the webpage\n",
    "- in 3 different ways"
   ]
  },
  {
   "cell_type": "code",
   "execution_count": 156,
   "id": "67f5b851",
   "metadata": {},
   "outputs": [
    {
     "name": "stdout",
     "output_type": "stream",
     "text": [
      "https://www.instagram.com/keithgalli/\n",
      "https://twitter.com/keithgalli\n",
      "https://www.linkedin.com/in/keithgalli/\n",
      "https://www.tiktok.com/@keithgalli\n"
     ]
    }
   ],
   "source": [
    "# links = webpage.find_all(\"a\")\n",
    "# for link in links:\n",
    "#     print(link['href'])\n",
    "\n",
    "links = webpage.select(\"ul.socials a\")\n",
    "for link in links:\n",
    "    print(link.get_text())\n",
    "    \n",
    "\n"
   ]
  },
  {
   "cell_type": "code",
   "execution_count": 157,
   "id": "00d3271a",
   "metadata": {},
   "outputs": [
    {
     "data": {
      "text/plain": [
       "['https://www.instagram.com/keithgalli/',\n",
       " 'https://twitter.com/keithgalli',\n",
       " 'https://www.linkedin.com/in/keithgalli/',\n",
       " 'https://www.tiktok.com/@keithgalli']"
      ]
     },
     "execution_count": 157,
     "metadata": {},
     "output_type": "execute_result"
    }
   ],
   "source": [
    "# create list of social links    \n",
    "links = webpage.select(\"ul.socials a\")\n",
    "links = [x.get_text() for x in links]\n",
    "links\n"
   ]
  },
  {
   "cell_type": "code",
   "execution_count": 158,
   "id": "b54cad8e",
   "metadata": {
    "scrolled": true
   },
   "outputs": [
    {
     "name": "stdout",
     "output_type": "stream",
     "text": [
      "\n",
      "https://www.instagram.com/keithgalli/\n",
      "https://twitter.com/keithgalli\n",
      "https://www.linkedin.com/in/keithgalli/\n",
      "https://www.tiktok.com/@keithgalli\n"
     ]
    }
   ],
   "source": [
    "\n",
    "links = webpage.find_all(\"ul\")\n",
    "li= links[1].find_all(\"li\")\n",
    "print()\n",
    "for i in li:\n",
    "    print(i.select(\"a\")[0]['href'])"
   ]
  },
  {
   "cell_type": "code",
   "execution_count": null,
   "id": "ade3ca75",
   "metadata": {},
   "outputs": [],
   "source": []
  },
  {
   "cell_type": "markdown",
   "id": "a5ea0bd2",
   "metadata": {},
   "source": [
    "## Task 2:  Grab Hockey Stats from MIT "
   ]
  },
  {
   "cell_type": "code",
   "execution_count": 159,
   "id": "3edccb41",
   "metadata": {},
   "outputs": [
    {
     "data": {
      "text/html": [
       "<div>\n",
       "<style scoped>\n",
       "    .dataframe tbody tr th:only-of-type {\n",
       "        vertical-align: middle;\n",
       "    }\n",
       "\n",
       "    .dataframe tbody tr th {\n",
       "        vertical-align: top;\n",
       "    }\n",
       "\n",
       "    .dataframe thead th {\n",
       "        text-align: right;\n",
       "    }\n",
       "</style>\n",
       "<table border=\"1\" class=\"dataframe\">\n",
       "  <thead>\n",
       "    <tr style=\"text-align: right;\">\n",
       "      <th></th>\n",
       "      <th>S</th>\n",
       "      <th>Team</th>\n",
       "      <th>League</th>\n",
       "      <th>GP</th>\n",
       "      <th>G</th>\n",
       "      <th>A</th>\n",
       "      <th>TP</th>\n",
       "      <th>PIM</th>\n",
       "      <th>+/-</th>\n",
       "      <th></th>\n",
       "      <th>POST</th>\n",
       "      <th>GP</th>\n",
       "      <th>G</th>\n",
       "      <th>A</th>\n",
       "      <th>TP</th>\n",
       "      <th>PIM</th>\n",
       "      <th>+/-</th>\n",
       "    </tr>\n",
       "  </thead>\n",
       "  <tbody>\n",
       "    <tr>\n",
       "      <th>0</th>\n",
       "      <td>2014-15</td>\n",
       "      <td>MIT (Mass. Inst. of Tech.)</td>\n",
       "      <td>ACHA II</td>\n",
       "      <td>17</td>\n",
       "      <td>3</td>\n",
       "      <td>9</td>\n",
       "      <td>12</td>\n",
       "      <td>20</td>\n",
       "      <td></td>\n",
       "      <td>|</td>\n",
       "      <td></td>\n",
       "      <td></td>\n",
       "      <td></td>\n",
       "      <td></td>\n",
       "      <td></td>\n",
       "      <td></td>\n",
       "      <td></td>\n",
       "    </tr>\n",
       "    <tr>\n",
       "      <th>1</th>\n",
       "      <td>2015-16</td>\n",
       "      <td>MIT (Mass. Inst. of Tech.)</td>\n",
       "      <td>ACHA II</td>\n",
       "      <td>9</td>\n",
       "      <td>1</td>\n",
       "      <td>1</td>\n",
       "      <td>2</td>\n",
       "      <td>2</td>\n",
       "      <td></td>\n",
       "      <td>|</td>\n",
       "      <td></td>\n",
       "      <td></td>\n",
       "      <td></td>\n",
       "      <td></td>\n",
       "      <td></td>\n",
       "      <td></td>\n",
       "      <td></td>\n",
       "    </tr>\n",
       "    <tr>\n",
       "      <th>2</th>\n",
       "      <td>2016-17</td>\n",
       "      <td>MIT (Mass. Inst. of Tech.)</td>\n",
       "      <td>ACHA II</td>\n",
       "      <td>12</td>\n",
       "      <td>5</td>\n",
       "      <td>5</td>\n",
       "      <td>10</td>\n",
       "      <td>8</td>\n",
       "      <td>0</td>\n",
       "      <td>|</td>\n",
       "      <td></td>\n",
       "      <td></td>\n",
       "      <td></td>\n",
       "      <td></td>\n",
       "      <td></td>\n",
       "      <td></td>\n",
       "      <td></td>\n",
       "    </tr>\n",
       "    <tr>\n",
       "      <th>4</th>\n",
       "      <td>2018-19</td>\n",
       "      <td>MIT (Mass. Inst. of Tech.)</td>\n",
       "      <td>ACHA III</td>\n",
       "      <td>8</td>\n",
       "      <td>5</td>\n",
       "      <td>10</td>\n",
       "      <td>15</td>\n",
       "      <td>8</td>\n",
       "      <td></td>\n",
       "      <td>|</td>\n",
       "      <td></td>\n",
       "      <td></td>\n",
       "      <td></td>\n",
       "      <td></td>\n",
       "      <td></td>\n",
       "      <td></td>\n",
       "      <td></td>\n",
       "    </tr>\n",
       "  </tbody>\n",
       "</table>\n",
       "</div>"
      ],
      "text/plain": [
       "         S                        Team    League  GP  G   A  TP PIM +/-     \\\n",
       "0  2014-15  MIT (Mass. Inst. of Tech.)   ACHA II  17  3   9  12  20      |   \n",
       "1  2015-16  MIT (Mass. Inst. of Tech.)   ACHA II   9  1   1   2   2      |   \n",
       "2  2016-17  MIT (Mass. Inst. of Tech.)   ACHA II  12  5   5  10   8   0  |   \n",
       "4  2018-19  MIT (Mass. Inst. of Tech.)  ACHA III   8  5  10  15   8      |   \n",
       "\n",
       "  POST GP G A TP PIM +/-  \n",
       "0                         \n",
       "1                         \n",
       "2                         \n",
       "4                         "
      ]
     },
     "execution_count": 159,
     "metadata": {},
     "output_type": "execute_result"
    }
   ],
   "source": [
    "import pandas as pd\n",
    "table = webpage.select(\"table.hockey-stats\")[0]\n",
    "columns = table.find(\"thead\").find_all(\"th\")\n",
    "column_names = [c.string for c in columns]\n",
    "column_names\n",
    "table_rows= table.find(\"tbody\").find_all(\"tr\")\n",
    "table_rows\n",
    "\n",
    "l=[]\n",
    "for tr in table_rows:\n",
    "    td = tr.find_all(\"td\")\n",
    "    row = [str(tr.text).strip() for tr in td]\n",
    "    l.append(row)\n",
    "# print(l[0])\n",
    "df = pd.DataFrame(l,columns=column_names)\n",
    "df.loc[df['Team'] != \"Did not play\"]"
   ]
  },
  {
   "cell_type": "markdown",
   "id": "e214fee9",
   "metadata": {},
   "source": [
    "## Task 3: Grab fun facts with \"is\""
   ]
  },
  {
   "cell_type": "code",
   "execution_count": 160,
   "id": "4d1d4e1e",
   "metadata": {},
   "outputs": [
    {
     "data": {
      "text/plain": [
       "['Middle name is Ronald',\n",
       " 'Dunkin Donuts coffee is better than Starbucks',\n",
       " \"A favorite book series of mine is Ender's Game\",\n",
       " 'Current video game of choice is Rocket League',\n",
       " \"The band that I've seen the most times live is the Zac Brown Band\"]"
      ]
     },
     "execution_count": 160,
     "metadata": {},
     "output_type": "execute_result"
    }
   ],
   "source": [
    "ul = webpage.select(\"ul.fun-facts>li\")\n",
    "ul_text = [u.text for u in ul if \"is\" in u.text]\n",
    "ul_text"
   ]
  },
  {
   "cell_type": "markdown",
   "id": "fb8f044a",
   "metadata": {},
   "source": [
    "## Task 4: Download the images of Italy"
   ]
  },
  {
   "cell_type": "code",
   "execution_count": 161,
   "id": "01c4bcca",
   "metadata": {},
   "outputs": [],
   "source": [
    "# Reference stackoverflow\n",
    "def download(url):\n",
    "    url = \"https://keithgalli.github.io/web-scraping/\" + url\n",
    "    filename= url.split('/')[-1]\n",
    "    temp = requests.get(url,allow_redirects=True)\n",
    "    open(filename,\"wb\").write(temp.content)\n",
    "\n",
    "\n",
    "\n"
   ]
  },
  {
   "cell_type": "code",
   "execution_count": 162,
   "id": "980d4b67",
   "metadata": {},
   "outputs": [],
   "source": [
    "img = webpage.select(\"div.column img\")\n",
    "img_src = [i['src'] for i in img]\n",
    "img_src\n",
    "img_download = [download(j) for j in img_src]"
   ]
  },
  {
   "cell_type": "markdown",
   "id": "30c97c16",
   "metadata": {},
   "source": [
    "## Task 4: Solve the mystery challenge\n",
    "- from a bunch of files with paragraph tags, find one with class=\"secret message\""
   ]
  },
  {
   "cell_type": "code",
   "execution_count": 180,
   "id": "c0c926af",
   "metadata": {},
   "outputs": [],
   "source": [
    "import re\n",
    "message = []\n",
    "def secret(url):\n",
    "    url = \"https://keithgalli.github.io/web-scraping/\"+url\n",
    "    temp = requests.get(url)\n",
    "    temp_soup = bs(temp.content)\n",
    "    p_tag = temp_soup.select(\"p#secret-word\")\n",
    "    message.append(p_tag[0].get_text())"
   ]
  },
  {
   "cell_type": "code",
   "execution_count": 181,
   "id": "70f81332",
   "metadata": {},
   "outputs": [
    {
     "name": "stdout",
     "output_type": "stream",
     "text": [
      "['Make', 'sure', 'to', 'smash', 'that', 'like', 'button', 'and', 'subscribe', '!!!']\n"
     ]
    }
   ],
   "source": [
    "p = webpage.select(\"a\")\n",
    "p_file = [i['href'] for i in p if \"challenge\" in str(i['href'])]\n",
    "p_file\n",
    "\n",
    "find_function =[secret(j) for j in p_file] # using list comrehension\n",
    "print(message)\n"
   ]
  },
  {
   "cell_type": "code",
   "execution_count": null,
   "id": "01b5b44b",
   "metadata": {},
   "outputs": [],
   "source": []
  }
 ],
 "metadata": {
  "kernelspec": {
   "display_name": "Python 3 (ipykernel)",
   "language": "python",
   "name": "python3"
  },
  "language_info": {
   "codemirror_mode": {
    "name": "ipython",
    "version": 3
   },
   "file_extension": ".py",
   "mimetype": "text/x-python",
   "name": "python",
   "nbconvert_exporter": "python",
   "pygments_lexer": "ipython3",
   "version": "3.9.12"
  }
 },
 "nbformat": 4,
 "nbformat_minor": 5
}
