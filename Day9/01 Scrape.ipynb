{
 "cells": [
  {
   "cell_type": "markdown",
   "id": "30e47be8",
   "metadata": {},
   "source": [
    "# Theory for web scraping"
   ]
  },
  {
   "cell_type": "code",
   "execution_count": 97,
   "id": "bd905d05",
   "metadata": {},
   "outputs": [],
   "source": [
    "import requests\n",
    "from bs4 import BeautifulSoup as bs\n",
    "\n",
    "url= \"https://keithgalli.github.io/web-scraping/example.html\"\n",
    "r = requests.get(url)\n",
    "soup = bs(r.content)\n",
    "# print(soup.prettify())"
   ]
  },
  {
   "cell_type": "code",
   "execution_count": 29,
   "id": "6fb79735",
   "metadata": {},
   "outputs": [],
   "source": [
    "first_h2=soup.find(\"h2\")"
   ]
  },
  {
   "cell_type": "code",
   "execution_count": 30,
   "id": "9c2728f4",
   "metadata": {},
   "outputs": [],
   "source": [
    "all_h2 =soup.find_all(\"h2\")"
   ]
  },
  {
   "cell_type": "code",
   "execution_count": 31,
   "id": "2146f56f",
   "metadata": {},
   "outputs": [],
   "source": [
    "all_headers=soup.find_all([\"h1\",\"h2\",\"h3\"])"
   ]
  },
  {
   "cell_type": "code",
   "execution_count": 32,
   "id": "bc0e586b",
   "metadata": {},
   "outputs": [
    {
     "data": {
      "text/plain": [
       "[<p id=\"paragraph-id\"><b>Some bold text</b></p>]"
      ]
     },
     "execution_count": 32,
     "metadata": {},
     "output_type": "execute_result"
    }
   ],
   "source": [
    "# find paragraph\n",
    "paragraph=soup.find_all(\"p\",attrs={\"id\":\"paragraph-id\"})\n",
    "paragraph"
   ]
  },
  {
   "cell_type": "code",
   "execution_count": 35,
   "id": "d6167952",
   "metadata": {},
   "outputs": [
    {
     "data": {
      "text/plain": [
       "['Some italicized text', 'Some bold text']"
      ]
     },
     "execution_count": 35,
     "metadata": {},
     "output_type": "execute_result"
    }
   ],
   "source": [
    "# find specific string in the soup\n",
    "\n",
    "soup.find_all(string=\"Some\")\n",
    "\n",
    "import re # regex library\n",
    "soup.find_all(string= re.compile(\"Some\"))    # finds any text with \"Some\" in it\n"
   ]
  },
  {
   "cell_type": "code",
   "execution_count": 38,
   "id": "f86f2a2f",
   "metadata": {},
   "outputs": [],
   "source": [
    "headers = soup.find_all(\"h2\",string=re.compile(\"(H|h)eader\"))  # regex"
   ]
  },
  {
   "cell_type": "markdown",
   "id": "1cc56a5c",
   "metadata": {},
   "source": [
    "## CSS selectors"
   ]
  },
  {
   "cell_type": "code",
   "execution_count": 43,
   "id": "ec1d8024",
   "metadata": {},
   "outputs": [],
   "source": [
    "# reference w3school's css selectors reference page\": https://www.w3schools.com/cssref/css_selectors.asp\n",
    "content = soup.select(\"p\")\n",
    "# content"
   ]
  },
  {
   "cell_type": "code",
   "execution_count": 42,
   "id": "8fc925fe",
   "metadata": {},
   "outputs": [],
   "source": [
    "# paragraphs inside of div\n",
    "para= soup.select(\"div>p\")\n"
   ]
  },
  {
   "cell_type": "code",
   "execution_count": 45,
   "id": "327d1e74",
   "metadata": {},
   "outputs": [],
   "source": [
    "# soup.select(\"h2 ~ p\")"
   ]
  },
  {
   "cell_type": "code",
   "execution_count": 47,
   "id": "b02edc1e",
   "metadata": {},
   "outputs": [
    {
     "data": {
      "text/plain": [
       "[<b>Some bold text</b>]"
      ]
     },
     "execution_count": 47,
     "metadata": {},
     "output_type": "execute_result"
    }
   ],
   "source": [
    "# find bold text\n",
    "bold_text = soup.select(\"p#paragraph-id b\")\n",
    "bold_text"
   ]
  },
  {
   "cell_type": "code",
   "execution_count": 54,
   "id": "89fc81ea",
   "metadata": {},
   "outputs": [
    {
     "name": "stdout",
     "output_type": "stream",
     "text": [
      "[<p><i>Some italicized text</i></p>, <p id=\"paragraph-id\"><b>Some bold text</b></p>]\n",
      "[<i>Some italicized text</i>]\n",
      "[]\n"
     ]
    }
   ],
   "source": [
    "paragraphs = soup.select(\"body>p\")\n",
    "print(paragraphs)\n",
    "for paragraph in paragraphs:\n",
    "    print(paragraph.select(\"i\"))"
   ]
  },
  {
   "cell_type": "markdown",
   "id": "0ead353d",
   "metadata": {},
   "source": [
    "## Getting different properties of HTML"
   ]
  },
  {
   "cell_type": "code",
   "execution_count": 68,
   "id": "9af0e867",
   "metadata": {},
   "outputs": [
    {
     "name": "stdout",
     "output_type": "stream",
     "text": [
      "\n",
      "HTML Webpage\n",
      "Link to more interesting example: keithgalli.github.io/web-scraping/webpage.html\n",
      "\n"
     ]
    }
   ],
   "source": [
    "# only 1 level text\n",
    "header = soup.find(\"h2\")\n",
    "header.string\n",
    "\n",
    "# if multiple child elements has text\n",
    "div = soup.find(\"div\")\n",
    "print(div.get_text())"
   ]
  },
  {
   "cell_type": "markdown",
   "id": "88aa1fcf",
   "metadata": {},
   "source": [
    "#### Find specific property of an HTML element"
   ]
  },
  {
   "cell_type": "code",
   "execution_count": 84,
   "id": "3de89bc6",
   "metadata": {},
   "outputs": [
    {
     "name": "stdout",
     "output_type": "stream",
     "text": [
      "keithgalli.github.io/web-scraping/webpage.html\n",
      "https://keithgalli.github.io/web-scraping/webpage.html\n"
     ]
    },
    {
     "data": {
      "text/plain": [
       "'https://keithgalli.github.io/web-scraping/webpage.html'"
      ]
     },
     "execution_count": 84,
     "metadata": {},
     "output_type": "execute_result"
    }
   ],
   "source": [
    "# find txt within a tag\n",
    "a_tag= soup.select(\"a\",attr={\"href\":\"*\"})\n",
    "for a in a_tag:\n",
    "    print(a.string)\n",
    "\n",
    "print(a_tag[0]['href'])   # print href value of first element in a_tag list\n",
    "\n",
    "\n",
    "# find text within href attribute\n",
    "link = soup.find(\"a\")\n",
    "link['href']"
   ]
  },
  {
   "cell_type": "markdown",
   "id": "c9a07875",
   "metadata": {},
   "source": [
    "### Code navigation"
   ]
  },
  {
   "cell_type": "code",
   "execution_count": 89,
   "id": "042b514b",
   "metadata": {},
   "outputs": [
    {
     "data": {
      "text/plain": [
       "'keithgalli.github.io/web-scraping/webpage.html'"
      ]
     },
     "execution_count": 89,
     "metadata": {},
     "output_type": "execute_result"
    }
   ],
   "source": [
    "soup.body.p.a.string"
   ]
  },
  {
   "cell_type": "code",
   "execution_count": 96,
   "id": "47726737",
   "metadata": {},
   "outputs": [
    {
     "data": {
      "text/plain": [
       "'A Header'"
      ]
     },
     "execution_count": 96,
     "metadata": {},
     "output_type": "execute_result"
    }
   ],
   "source": [
    "# terms to note: parent, siblings and child\n",
    "# parent at highest level\n",
    "# child at lower level to parent\n",
    "# sibling at same level \n",
    "\n",
    "# eg\n",
    "soup.find(\"div\").find_next_siblings()[0].string"
   ]
  },
  {
   "cell_type": "code",
   "execution_count": null,
   "id": "28b3cde8",
   "metadata": {},
   "outputs": [],
   "source": []
  },
  {
   "cell_type": "code",
   "execution_count": null,
   "id": "825b9e94",
   "metadata": {},
   "outputs": [],
   "source": []
  },
  {
   "cell_type": "code",
   "execution_count": null,
   "id": "9eec582b",
   "metadata": {},
   "outputs": [],
   "source": []
  }
 ],
 "metadata": {
  "kernelspec": {
   "display_name": "Python 3 (ipykernel)",
   "language": "python",
   "name": "python3"
  },
  "language_info": {
   "codemirror_mode": {
    "name": "ipython",
    "version": 3
   },
   "file_extension": ".py",
   "mimetype": "text/x-python",
   "name": "python",
   "nbconvert_exporter": "python",
   "pygments_lexer": "ipython3",
   "version": "3.9.12"
  }
 },
 "nbformat": 4,
 "nbformat_minor": 5
}
